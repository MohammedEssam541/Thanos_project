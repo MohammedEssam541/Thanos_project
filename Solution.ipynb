{
 "cells": [
  {
   "cell_type": "code",
   "execution_count": 2,
   "id": "ed753656",
   "metadata": {},
   "outputs": [],
   "source": [
    "import os\n",
    "import shutil\n",
    "import random"
   ]
  },
  {
   "cell_type": "code",
   "execution_count": 3,
   "id": "0781087b",
   "metadata": {},
   "outputs": [],
   "source": [
    "os.chdir(\"./universe/\")"
   ]
  },
  {
   "cell_type": "code",
   "execution_count": 4,
   "id": "25ef66fe",
   "metadata": {},
   "outputs": [
    {
     "data": {
      "text/plain": [
       "['cover050.png',\n",
       " 'cover031(1).png',\n",
       " 'cover037.png',\n",
       " 'cover004.png',\n",
       " 'cover028.png',\n",
       " 'cover010.png',\n",
       " 'cover014.png',\n",
       " 'cover012.png',\n",
       " 'cover038.png',\n",
       " 'cover005.png',\n",
       " 'cover019.png',\n",
       " 'cover047.png',\n",
       " 'cover017.png',\n",
       " 'cover018.png',\n",
       " 'cover043.png',\n",
       " 'cover013.png',\n",
       " 'cover027.png',\n",
       " 'cover009.png',\n",
       " 'cover020.png',\n",
       " 'cover008.png',\n",
       " 'cover045.png',\n",
       " 'cover026.png',\n",
       " 'cover040.png',\n",
       " 'cover015.png',\n",
       " 'cover011.png',\n",
       " 'cover016.png',\n",
       " 'cover006.png',\n",
       " 'cover049.png',\n",
       " 'cover036.png',\n",
       " 'cover035.png',\n",
       " 'cover041.png',\n",
       " 'cover029.png',\n",
       " 'cover032.png',\n",
       " 'cover025.png',\n",
       " 'cover024.png',\n",
       " 'cover007.png',\n",
       " 'cover048.png',\n",
       " 'cover001.png',\n",
       " 'cover003.png',\n",
       " 'cover002.png',\n",
       " 'cover046.png',\n",
       " 'cover030.png',\n",
       " 'cover033.png',\n",
       " 'cover044.png',\n",
       " 'cover031.png',\n",
       " 'cover039.png',\n",
       " 'cover023.png',\n",
       " 'cover034.png',\n",
       " 'cover022.png',\n",
       " 'cover042.png',\n",
       " 'cover021.png']"
      ]
     },
     "execution_count": 4,
     "metadata": {},
     "output_type": "execute_result"
    }
   ],
   "source": [
    "os.listdir(\".\")"
   ]
  },
  {
   "cell_type": "code",
   "execution_count": 8,
   "id": "08375040",
   "metadata": {},
   "outputs": [],
   "source": [
    "os.makedirs(\"../backup\")"
   ]
  },
  {
   "cell_type": "code",
   "execution_count": 9,
   "id": "1aed3cd4",
   "metadata": {},
   "outputs": [
    {
     "data": {
      "text/plain": [
       "'../backup/'"
      ]
     },
     "execution_count": 9,
     "metadata": {},
     "output_type": "execute_result"
    }
   ],
   "source": [
    "shutil.copytree(\".\" , \"../backup/\" , dirs_exist_ok=True)"
   ]
  },
  {
   "cell_type": "code",
   "execution_count": 11,
   "id": "05b815ea",
   "metadata": {},
   "outputs": [
    {
     "name": "stdout",
     "output_type": "stream",
     "text": [
      "Destroying cover016.png\n",
      "The number of people now is 49\n",
      "Destroying cover007.png\n",
      "The number of people now is 48\n",
      "Destroying cover030.png\n",
      "The number of people now is 47\n",
      "Destroying cover032.png\n",
      "The number of people now is 46\n",
      "Destroying cover046.png\n",
      "The number of people now is 45\n",
      "Destroying cover018.png\n",
      "The number of people now is 44\n",
      "Destroying cover029.png\n",
      "The number of people now is 43\n",
      "Destroying cover034.png\n",
      "The number of people now is 42\n",
      "Destroying cover047.png\n",
      "The number of people now is 41\n",
      "Destroying cover012.png\n",
      "The number of people now is 40\n",
      "Destroying cover019.png\n",
      "The number of people now is 39\n",
      "Destroying cover026.png\n",
      "The number of people now is 38\n",
      "Destroying cover024.png\n",
      "The number of people now is 37\n",
      "Destroying cover015.png\n",
      "The number of people now is 36\n",
      "Destroying cover033.png\n",
      "The number of people now is 35\n",
      "Destroying cover043.png\n",
      "The number of people now is 34\n",
      "Destroying cover014.png\n",
      "The number of people now is 33\n",
      "Destroying cover020.png\n",
      "The number of people now is 32\n",
      "Destroying cover048.png\n",
      "The number of people now is 31\n",
      "Destroying cover021.png\n",
      "The number of people now is 30\n",
      "Destroying cover008.png\n",
      "The number of people now is 29\n",
      "Destroying cover036.png\n",
      "The number of people now is 28\n",
      "Destroying cover040.png\n",
      "The number of people now is 27\n",
      "Destroying cover031.png\n",
      "The number of people now is 26\n",
      "Destroying cover045.png\n",
      "The number of people now is 25\n"
     ]
    }
   ],
   "source": [
    "for i in range(25):\n",
    "    list_of_people = os.listdir(\".\")\n",
    "    random_people = random.choice(list_of_people)\n",
    "    os.remove(random_people)\n",
    "    print(f\"Destroying {random_people}\" )\n",
    "    print(f\"The number of people now is {len(list_of_people) - 1 }\")\n",
    "    "
   ]
  },
  {
   "cell_type": "code",
   "execution_count": 13,
   "id": "1142780c",
   "metadata": {},
   "outputs": [
    {
     "data": {
      "text/plain": [
       "25"
      ]
     },
     "execution_count": 13,
     "metadata": {},
     "output_type": "execute_result"
    }
   ],
   "source": [
    "len(os.listdir(\".\"))"
   ]
  }
 ],
 "metadata": {
  "kernelspec": {
   "display_name": "Python 3 (ipykernel)",
   "language": "python",
   "name": "python3"
  },
  "language_info": {
   "codemirror_mode": {
    "name": "ipython",
    "version": 3
   },
   "file_extension": ".py",
   "mimetype": "text/x-python",
   "name": "python",
   "nbconvert_exporter": "python",
   "pygments_lexer": "ipython3",
   "version": "3.11.5"
  }
 },
 "nbformat": 4,
 "nbformat_minor": 5
}
